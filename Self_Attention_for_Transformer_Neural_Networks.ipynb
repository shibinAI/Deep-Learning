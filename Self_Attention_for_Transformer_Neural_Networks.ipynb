{
  "nbformat": 4,
  "nbformat_minor": 0,
  "metadata": {
    "colab": {
      "provenance": [],
      "authorship_tag": "ABX9TyNfHDC4527A4qojgwxqO2eW"
    },
    "kernelspec": {
      "name": "python3",
      "display_name": "Python 3"
    },
    "language_info": {
      "name": "python"
    }
  },
  "cells": [
    {
      "cell_type": "code",
      "execution_count": 1,
      "metadata": {
        "id": "0U4cto1RTFAA"
      },
      "outputs": [],
      "source": [
        "import numpy as np\n",
        "import math"
      ]
    },
    {
      "cell_type": "code",
      "source": [
        "L, d_k, d_v = 4, 8, 8\n",
        "q = np.random.randn(L, d_k)\n",
        "k = np.random.randn(L, d_k)\n",
        "v = np.random.randn(L, d_v)"
      ],
      "metadata": {
        "id": "oGXUTh0pTKyD"
      },
      "execution_count": 2,
      "outputs": []
    },
    {
      "cell_type": "code",
      "source": [
        "print(\"Q\\n\",q)\n",
        "print(\"K\\n\",k)\n",
        "print(\"V\\n\",v)"
      ],
      "metadata": {
        "colab": {
          "base_uri": "https://localhost:8080/"
        },
        "id": "x0386-7tT4uV",
        "outputId": "554c52d1-7153-448b-f16c-8eff96cd0c1a"
      },
      "execution_count": 3,
      "outputs": [
        {
          "output_type": "stream",
          "name": "stdout",
          "text": [
            "Q\n",
            " [[-1.656742    0.7819573   0.52559618  0.93939726 -0.5625273   0.84864929\n",
            "   1.19123949 -1.31573045]\n",
            " [ 1.1602606   0.71961949  1.73283649  0.70025501 -1.38885747 -0.6655259\n",
            "   1.65544819 -0.83732698]\n",
            " [-0.13133191  0.56976407  0.02463137 -0.17135961  0.79378865 -0.037593\n",
            "  -0.11494286  0.41844077]\n",
            " [-0.64231195  0.82531037  0.5615818   1.73076134 -0.3999727  -0.67738992\n",
            "   0.88621169  0.03202868]]\n",
            "K\n",
            " [[-1.07965948 -0.93033227  0.77991769  0.54198817  0.67621516  0.78237803\n",
            "   0.54289299  0.97488506]\n",
            " [-1.8024289   0.65364501 -1.13887745 -1.1311632  -0.77045519 -0.68075642\n",
            "  -0.39891236  0.19494474]\n",
            " [ 0.66989718  1.3563747   0.74030572 -1.61829959  0.21973164 -0.04224101\n",
            "   0.01392261  2.27628322]\n",
            " [-0.82786793 -0.19886898  0.77990028 -0.79178142  1.52317783 -0.52038813\n",
            "  -0.51767374 -1.73647756]]\n",
            "V\n",
            " [[ 1.08490757 -0.43367479 -1.07236331 -1.82204064  1.60845676  0.64308658\n",
            "   0.42560113  0.34021025]\n",
            " [ 0.03660966  0.24093147  0.0184248   1.0283842  -0.18074102  0.42931961\n",
            "   0.62203353  1.2696625 ]\n",
            " [-0.6292464   1.61516974 -0.25760648  0.64433422  0.73057808  0.25156906\n",
            "  -1.35644896  2.19071656]\n",
            " [-1.77579804  0.72876252  0.24562625  0.85148709  0.7376589   1.97186232\n",
            "  -0.57591636 -0.44978001]]\n"
          ]
        }
      ]
    },
    {
      "cell_type": "markdown",
      "source": [
        "#Self Attention"
      ],
      "metadata": {
        "id": "bBCYvua2X2Wt"
      }
    },
    {
      "cell_type": "markdown",
      "source": [
        "![image.png](data:image/png;base64,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)"
      ],
      "metadata": {
        "id": "Jea_2WccZbg4"
      }
    },
    {
      "cell_type": "code",
      "source": [
        "np.matmul(q,k.T)"
      ],
      "metadata": {
        "colab": {
          "base_uri": "https://localhost:8080/"
        },
        "id": "pEUyEhvxUPn-",
        "outputId": "59cbd21a-b86f-4c8f-831b-4b92523ade38"
      },
      "execution_count": 5,
      "outputs": [
        {
          "output_type": "execute_result",
          "data": {
            "text/plain": [
              "array([[ 1.62790573,  0.96006463, -4.31818685,  1.25177869],\n",
              "       [-1.56859749, -3.68700042, -0.2570733 , -1.47878942],\n",
              "       [ 0.39094936,  0.31636149,  2.10727847,  0.71184055],\n",
              "       [ 1.01360486, -0.47814314, -1.6700293 , -1.3358955 ]])"
            ]
          },
          "metadata": {},
          "execution_count": 5
        }
      ]
    },
    {
      "cell_type": "code",
      "source": [
        "# Why do we need sqrt(d_k) in denominator\n",
        "q.var(), k.var(), np.matmul(q,k.T).var()"
      ],
      "metadata": {
        "colab": {
          "base_uri": "https://localhost:8080/"
        },
        "id": "ti8y9cPDb1ML",
        "outputId": "29b463cd-010a-4742-eb87-c0a503ec7cba"
      },
      "execution_count": 6,
      "outputs": [
        {
          "output_type": "execute_result",
          "data": {
            "text/plain": [
              "(0.7849349121325702, 0.9752922016372961, 3.1594751348847465)"
            ]
          },
          "metadata": {},
          "execution_count": 6
        }
      ]
    },
    {
      "cell_type": "code",
      "source": [
        "# variance of Q.K^T is more. So to stabilise, we divide with sqrt(d_k)\n",
        "scaled = np.matmul(q,k.T) / math.sqrt(d_k)\n",
        "q.var(), k.var(), scaled.var()"
      ],
      "metadata": {
        "colab": {
          "base_uri": "https://localhost:8080/"
        },
        "id": "Upns5kCecGkF",
        "outputId": "40e3fb2b-497e-4951-a803-762fb00665c7"
      },
      "execution_count": 7,
      "outputs": [
        {
          "output_type": "execute_result",
          "data": {
            "text/plain": [
              "(0.7849349121325702, 0.9752922016372961, 0.3949343918605933)"
            ]
          },
          "metadata": {},
          "execution_count": 7
        }
      ]
    },
    {
      "cell_type": "code",
      "source": [
        "scaled"
      ],
      "metadata": {
        "colab": {
          "base_uri": "https://localhost:8080/"
        },
        "id": "uRvvqmA1cyVv",
        "outputId": "36f1e991-7aa6-4912-d13c-d08faf799f2c"
      },
      "execution_count": 8,
      "outputs": [
        {
          "output_type": "execute_result",
          "data": {
            "text/plain": [
              "array([[ 0.57555159,  0.33943411, -1.5267096 ,  0.4425706 ],\n",
              "       [-0.55458296, -1.3035515 , -0.09088914, -0.52283101],\n",
              "       [ 0.13822147,  0.11185068,  0.74503545,  0.25167364],\n",
              "       [ 0.35836343, -0.16904913, -0.59044452, -0.47231038]])"
            ]
          },
          "metadata": {},
          "execution_count": 8
        }
      ]
    },
    {
      "cell_type": "markdown",
      "source": [
        "#Masking\n",
        "\n",
        "This is to ensure that words do not get the context from the words generated in the future\n",
        "\n",
        "\n",
        "Not required in the encoders, but required in the decoders\n",
        "\n"
      ],
      "metadata": {
        "id": "EGDY3Cz9dEBV"
      }
    },
    {
      "cell_type": "code",
      "source": [
        "mask = np.tril(np.ones( (L, L)))\n",
        "mask"
      ],
      "metadata": {
        "colab": {
          "base_uri": "https://localhost:8080/"
        },
        "id": "ympjt5bgc3e8",
        "outputId": "083dec68-710e-4ebb-c7da-e302176c0b3e"
      },
      "execution_count": 9,
      "outputs": [
        {
          "output_type": "execute_result",
          "data": {
            "text/plain": [
              "array([[1., 0., 0., 0.],\n",
              "       [1., 1., 0., 0.],\n",
              "       [1., 1., 1., 0.],\n",
              "       [1., 1., 1., 1.]])"
            ]
          },
          "metadata": {},
          "execution_count": 9
        }
      ]
    },
    {
      "cell_type": "code",
      "source": [
        "mask[mask == 0] = -np.infty\n",
        "mask[mask == 1] = 0"
      ],
      "metadata": {
        "id": "p-9AZujzdwWJ"
      },
      "execution_count": 10,
      "outputs": []
    },
    {
      "cell_type": "code",
      "source": [
        "mask"
      ],
      "metadata": {
        "colab": {
          "base_uri": "https://localhost:8080/"
        },
        "id": "oPtXZMtueIBD",
        "outputId": "e45805ae-d4fe-49b9-e26d-61646d40386c"
      },
      "execution_count": 11,
      "outputs": [
        {
          "output_type": "execute_result",
          "data": {
            "text/plain": [
              "array([[  0., -inf, -inf, -inf],\n",
              "       [  0.,   0., -inf, -inf],\n",
              "       [  0.,   0.,   0., -inf],\n",
              "       [  0.,   0.,   0.,   0.]])"
            ]
          },
          "metadata": {},
          "execution_count": 11
        }
      ]
    },
    {
      "cell_type": "code",
      "source": [
        "scaled + mask"
      ],
      "metadata": {
        "colab": {
          "base_uri": "https://localhost:8080/"
        },
        "id": "VwOaE9gHeJbF",
        "outputId": "f19092df-50f1-420c-bb97-184145d3badf"
      },
      "execution_count": 12,
      "outputs": [
        {
          "output_type": "execute_result",
          "data": {
            "text/plain": [
              "array([[ 0.57555159,        -inf,        -inf,        -inf],\n",
              "       [-0.55458296, -1.3035515 ,        -inf,        -inf],\n",
              "       [ 0.13822147,  0.11185068,  0.74503545,        -inf],\n",
              "       [ 0.35836343, -0.16904913, -0.59044452, -0.47231038]])"
            ]
          },
          "metadata": {},
          "execution_count": 12
        }
      ]
    },
    {
      "cell_type": "markdown",
      "source": [
        "![image.png](data:image/png;base64,iVBORw0KGgoAAAANSUhEUgAAArAAAABzCAYAAABgpzGFAAAAAXNSR0IArs4c6QAAAARnQU1BAACxjwv8YQUAAAAJcEhZcwAADsMAAA7DAcdvqGQAAEhOSURBVHhe7d3nl2TXed/77z6nYlfnnHOcnDEBmUgMoCRKJmSRsknr2tKy77Je+C6/1t/gq7vsa9nXi0EUaWrZBEECIIDBACSAyRkTe1LPdM6h8gn7vtinqnsGAwpDEuQ08Xxm1Ux31alTp6q7p379nL2frVqaWjQPQgH3u4cK/r3fbQ9Ar9nV6ge//n6FEEIIIcTvB+veK+6lC8lRgdYa3/fRWq9eH9xmKQul1ibOX41SwWOh8VwPx3FxHAfXdfG1f9fxEBzfXccihBBCCCF+r6mPq8CaK01gBYVSFMOrUgqFMv8qhbIUtm0Xb/9V8qQOwqtSCu1rfO1jWzaRSIRQKIRG4zou2Vy2+Lha67uORwghhPjE5G3jk/sV3teFeCAP+PN43wCrMdVW7fv42gfAtm1CoTCWZeH7nqmI+j4KhWXb2LaF9nWxUvug3+wasCwTSj3XIxqL0tfbR09PD7V1tSSTSS5cuMCFCxdN3VVrE6ItCa9CCCEe3G/irOFnggJtgsG9twjxa1tbwHyQ7HjfAFuQd/KUlpbS3d1NZ2cnlRWVlJaWks6kmZqaYuTWCHdG75BMJolEIriuh/WrBsqgwuv7PhUVFTz77LPsfWQvDY2NlCYSzM/Pc/Dtg3z/+9/H87xiZdi2LWzb/tUeUwghhBBCrDt3B1gFCoWvfZy8w6bNm9i/bz8bN22ktqYWy7aCCqzG9z1mZ2c5fvw477zzDqOjo0QikeL9WfvbbeER1kz0Kj6o1qDMEAXXdQmHw2zYsIFvfuObNDQ2MDY2xsjIbaamJrlx4wYnTpyktDRBbW0tkUiExcUlZmdng+ptYX+rj134hfETTwxT9xxvcKz3u9u916nClWvv8ID70pjKshBCiE/X/d4ChBDrw0cCbGEYQHtbO1/54z9m+/ZtaK0ZGbnNnTu3yWazlJWV0d3VTUtrK8nkCr/4xXv85CevMDs7i23bZl9BUls7RrUQbC3LxlIKX2u0NpVU0ORzeaqrq3nhhRf4o698hYWFeV5++WXOnD5DLpfD9TyWFhfp7OzkxRdfpLaulsOHD/PWWwdBa+yQje/5xccFCNmh4qSzwpjZ4jHdc/ro3tu0r7FsC4UZ2lCkTMQsbI8Cy7LwPB8w97eUmR9XfOzCvopjdwG02S543QvjiT3PlwgrhBCfNvmP9gE9jC+Y/BryWWWXl5X/DUHlDw2e7xGLxXj6c5/jySefwLIs3n//fX7yk59w7NgxPvzwPJcvX2F8fJxYPEZ3dzeNjY3Mzy8wcusWnudhKctMunJd8nkHBfjax3U9XMfF9z0wOdB0L7AsfM8nk8lQVl7G/gMHGBjo58KFC7z++utcunSJdCaNk8/juA6NTY184YtfpK+vnzu3b3Py1Ekc1yEUCqGUwvdNBdl1XVMx1j6O4+B5Pto3x+Gtuc3zvOKwBHPRxc9t2zahM/ghUZiPvWAcsOd5ZtKZ7wfjgk1yV0qBAl8Hr4OTD4Y9rI7zKOzT87zg+DyT+4NKuBBCiE+PstZMRpbLL788lO9JwVyYe49VLp+JSzHAFiukGlMFff552tvauXTpEi+//DJHjx7Dc00XgIWFeW7fuY3WmtbWVlpbWsk7eT688CGZTAalzL601pSUlFBXV0dVZRXlFeXE43EsZeG5JjTaIRutNaFQiFg8RnNzC9u3b6e9vZ1rw9e4fec2SilKy0qJRmNUVlbQ0tzC0IYhotEIt2/fZnR0jEg4UhwXW1ISp6ysjHAkgu+ZQF5WVkZNTTXV1dXEYrG7Qms8FqeqqoqamhqqqqpIJBIopXBd9+6flWAgu9Y+kUiU8vIyc5/qKkpKSojH48XwSyGgW4qysjLKSsuIxWPFoFv4AriOSzQapay8jNJEKbZtXhshhBCfLoUpNEgR758QzK2560zkwyIo+DyERyYegCr89QBfSLu8rPxvNGBbFmhTHayuqWb3nt3U1NZy8eJFzpw5w8ryConSBOFwmFgshut6+J5PaVkpFRUVzM7OcunSJTLpDF5QuWxsaOSRvY/w6KOPsnvPbrZv286GoQ3U1dfjui7Ly8toX5PJZGhsaGT/gf088cTjtLa2Eg6FCYVC1NfX09HRQX1dPfUN9Tz55JP09/fT2NBIJBKhJF5CS2sLzc3NTM9Mk06l2Lx5M08+8SRdnZ1orenp7eHRRx/lwP4DbN+xg66ubuLxOPPzC4RDYbZs3cKTTz7J/v372bJlK4ODA1RVVZNJZ4Ln4xW7Hfjap6y0jI0bN/DogUd57LHH2LVrN0NDQ/T29GLbFplMmlw2h+d7lJSUsGfPHg48+ij9/QPk8w7z83NoX2PbNp7nsWXrFp544km2bNlMKBRmbGz0gb6IQgghHpySLgQPRD2EF7H+acwX80Gr/GsqsOaUtuf5hEI2O3fuorm5mXw+z8jICKOjo8EpeTPjPxQO4bouMzMzXLlylStXLjM7O0s6ncb3fPr6+/jCF7/I888/T39fPw0NDTQ0NtDV3UV/fx8NDQ0kk0lmZmbIZDJ0dXXzzOc+x969ewmFQuRzeRKlCVpbW2lqbiYcDhOJRHjqqaeor683Y201VFRU0NraSkkiwZkzp5mfn2ff3n089dRT9PX309XdzSOPPMLg4CBNTU20NLfQ1d1Fa0sL0WiUjs4OPv/C59m2bRuNjY00NDTQ3d3D4OAA0WiUyalJlpaW8Dwfz3Oprqrm+eef54tf+CLbd+ygrraORCJBS0srvX29DA4Oks/lmZycZGV5hUg4QkNDA1/44hfYuXMnvucxcnuE6elpLGXR2NjIH/7RH/Hcs89SUlLCpUsXuXL5CuFw+N6vlRBCCCHE75UHi62r7PKy8r9RrO5Ba7Atm8rKCjo7O4un/8ORCKlUkmw2RyaTMeNIPY9UMsX0zDQLCws4jksul6Ont4cvfOELPPbYY3iez8kTJ3jr4FscO3acmZlpKioq6enpobq6mtu3b7O4sIivfebn5pmYmKCkpITaujpu3brJwYMHOXz4A4aHh7l1a4Th4WGmJqeob6gnGo1y4cIFfvazn3HmzBlu3rxFLpdjw8aNDA0NUVNTA2jOnT3HO+++y/Hjx5idmyWRKKW5uZm29jYGBgZYSa7wwQeHOXToEFcuX8HXfjHsLiwsMDkxyfLyEuXl5Tz73LN8+ctfprSslDNnTvPGz97ggw/e58aNG5QmSmlvb6eiooK5+XnGx8dwXIfFhUVqqmtob2+jvLyC+bk5rl27Tjgc5unPPc3nnv4cylIcevsQh94+hOM62FYwGU4IIYQQQtzFVGCVmUiEBsu28DyP5eVlShOlNDY20tHRQVdXJ21tbTQ0NFBdVQVAJpshnUmbiVpK4Xs+WsPjjz3Ok089SSQS5oMP3ueVV17hwoUL3Lhxkzu3b+O6Du3t7bQ0t5DNZLkzeofFhUUmpyZZXl6hu6ebrq4uLl++zMG3DnLx0kUWFhaYnZ3l1k0zUWzTps2Ul5dz+swZfvaz1xkfGyefzwGaTZs2MjA4iOe5HD16lJ/+9KfB499gdHQU27bp6emhoqKChYVFXn/9dd45dIjLVy4zNj7G/Py8Gdvb1sbM7CzD14aZnZ2lrq6Oxx97nJbWFi5dusTrr7/O0SNHGRm5ze2REZKpJL29vdTV1TE7O8vNmzdJp9JkslmSyRVaW9vo6upCKcXMzDSVlZX80R/+Ec3NzRw/fpyfvfEGd27fJhI17ciEEEIIIcRHFQNsoX2UaQflsbS0zML8PJlMhlgsRmNTI93d3XR3d9Pf309rSyvV1dUopUilUriui+u4NDY28Oxzz9Lf38+14Wu88sorXLp0ydzuuiwuLpJKpakor6Cvv49IJMLw8DAzszOsrKwQi0XZsmULPT09DF8d5uzZs8zOzqI1eK5HOp2mpraGXTt3UV5WxqWLFzlx8gSO42BZFpay2LR5EwMDAywtLvHGG29w+tRpcrkcjmOqofFYjMGhQRKJBMePH+OtN99ibHwM7WtyuTypZJKOjg46OtqZnZnl8uUrzM7OUlJSgq99hoeH+eD9D7h44SLLK8sAZLNZMpk0mzZuoqm5idnZGa5eucri0hLhcIiF+QUs26K9vZ3mlmYSiQRdXV3s2L6DsfExXnv9dc6fP4/GTGgTQgghhBD3FzQrNX1MVdCjtPDvpcuXeOUnr/D9H/yA1197nQsXLpDP52lra+Ppzz3NV1/6Kn/4h3/Itm3biUQiOI5DU2MTTU3NeJ7HjZs3uX7tOuFwhJKSEhKJUsLhMDMz05z/8DypZIra2lqqq2uIRCLYtk04HDHVXN9HWYpIJEI4HCZk24TCISLRCNFoDMsyrbos2yIaiRIOBWNGi0MhNNlslqXFJZSliMViJBIJ7JBNJpshlUzheT4T4xOk0imi0SiJ0gSRcBjf91lJrpDP57FDNpFwmFDIJpVMcejQIX784x9zZ/QOHZ0dPPboYzzxxOM89dRTbN2ylUg0UpygZdkWWmuzSpnncuTwEQ4fPgwa9u3bx4EDj5LL5Xj//fe5ePEi+VyOSCTycM70FEIIIYR4SJgAu0bh1LVt28FKV4t88MH7fOvb3+a//Jf/wre//W1+/OMfc/HCRcLhCAcOHOArX/kK/X39WJaFHbKJRiLkc3kWFhbIO3ls28L3TQ9Wy7JwXZeFhUVWVlYIh8OUxOMm8CmLUMgGlGmxZdnmfsFiAb7no32N57nFnqqWZVYH08ECAoWerL7vozGLG9iWTSgUwrLsYl9X13MpTEAthN9CL1ZlqeLxWJaFskyg97UmFovT29vLH/7BH/IXf/EX/Ku/+Au+8Y1v8M1vfoM/+9qf0dbahuf75HJ5s6hCcFyxWJz5hXlOnTzF1eFh4rE4kXCYa9euceTIEebm5ohEI6aHrgRYIYQQQoiPdVeAtSy7OIQgn8/h+z7hkGmb5bkut27d4hc//wXf+ta3+Lv/9ne8884hVlZW6OzoYN/+/SRKSyFYtEBZVnFVLktZOI6D1ho7CJH2mtBph0KE7BCrQxlMVbjQS/beC6yZtrZ2Wdo1ipsp0x/OBFvPLDQQtAtTyqx8ZZayNatnrW1svfYxHMeM8925cyd/9Vd/xZf/4A9ob2tneXmJK1eucPHiRbPgQjpNOBwKgrj5hcBzPXzfTHpbXFpkaWkRFOSdPNMz06ysrACmaltY3EAIIYQQQtyfRdA+y7ZtfM8Dpejr6+O5Z59j7yN7qayqwnM9Ez5tG1/75PN5rly5wrvv/pxLly4RL4nT1dVJWVkpnufjez52sGxqPlg9y7ZsCCqfWmvC4XCxGurk8+TyOVP9LKRG9et1efvIalZBONZBZdZs8/H713o1Gfu+jwpaXj315JN0dXZx8+YNvvv33+Vv//Zv+R//43/w3//7/8d3v/v33Lh5A2/NamSWbWHZFr5vnvPQ0BBDg0OgKX4+MDBAKBQilUoFAf7jj0sIIYQQ4rPurgqs53nYtk1vby8v/elLfPWrX6WvrxeUqUDadohYLEY0GsXJO8xMTzM/N49SingsTiwWY2FhnoXFBSKRCI2NDVRVBgEYAF1ceaq5pZny8grS6TTJVNKEPssCZYKlpdbGz18l0JnqqvlTCK9rq7hBlfVeenW1EY3Z1vd9IpEw9fV1tLW1oZTi6NGjHDlyhJGREWZnZ5mZmWFxcRE/GCZReGytzcpc2WyGTZs2ceDAAWpqahi5PcKtm7dMZ4PHnyh2J/B9X1poCSGEEEL8EhbBaW7f9/G1adafyWQoKyujf6CfnTt30trSiuu5pJJJUqkUyWQSFNTX11NXXw9AOp3G8zymp6a5PXIb13Hp6+tj67ZtWMHqVMtLy2g0He0dbNu6jURJCVOTU8zOzhYDbLECqVYDJFqbJVyLlVNT3QVwPZd8PofjuCagBmMK1kbTwn60Dm6/y91VWvPParhVqOJ9QqEQkWgU1zMdFXK5PJlMFsdxiETCbNy4objIgueZSq/WGsdxaGxs5PHHn6C/v5/JyUnefPNN3njjDZaXltm6dQt7H9lLbW0tmUzmV8vrQgghhBCfEXdVYG3bxnVcrl27xtEjR0ml0mzfvp3nnnuO3bt309nZSVNTM50dnezZvSdY1rWP5EqSq1evklxJsry8zIcXPuTmrZs0NTbx3LPPsnv3Hjo7OmlpbWH79h089fRTbNy4kaXlJc6cPcPszCy+r1HKuqtKujbIFs/nK8jlsuTzeSzLpq6ujt7eXlpamolGo8VtTAg0Vdi14XV1bKyp9JqhDoU7rd5X++bxVdBazHVcFheXWFleJhwKs23bNvbs2c3Q4CCDg4Mc2H+AL37xizQ3N5v9BMMyCkMFDuw/wN5HHgHg5MmTvPPOOxw+cpjTp08TDkfYf2A/27Zuw7Zt8vl8sA8hhBBCCHEvu7ys/G80YFkKK5j1n0wmWVleobamhubmZnp6eujr66Ors4uBwUF279nN4088zqaNm1BKce7cOd58602mp6dxXbM6VygcorWtjd6eHtra2mhubmbjxo08+uijbN26DbTm2LFjvPHGm8wvzKOCxRTKysrYunUrnZ2d3LlzhwsXLrC4uEQoFDKVYu2jlKKnp4eWlmZqa2tpamqirraOqakpkitJNgYrcWWzWc6dO8f4+ESxTZjnujQ2NLJj507q6uq4ePES165dI5PJFCvAkXCEgcEBhgaHmJmd4eLFi4xPjGNZFvX19bS1tdHU3ERrSyu9vb1s276N/Qf209HRYTox2DZzc/Ncv3adufk5+nr7+Gf/7J/R09vDxQsXeePNN7h69Spo0z+2o6Od/v5+wuEwo2OjzEzPSC9YIYQQQoiPUVxKtnD6vTBrfnp6mqnpKRzHoaK8gpaWFjo7O+np6aa7q5tYPMbc/BxHjxzltddf49rwNULB7Pt0Om1aaOVzVFVXUVtXS3dPD/0D/VRXVTE9Pc3777/Ha6+9xtjYKJayAIXjOFRWVLB161ba29oZHr7GxYsXWV5eNgE2qKbm83nisTh19XW0tLTS0tJMZWUl586fZ3ZmhoHBAQYGBkmnU5w8eYrpqSnzZG0b3/Opb6hn69YtVFVWcu7sWa5fv042m8GyTMU0FAoxtGGInp4epqemuXz5MtPTM3iex+zcLPF4nKqqahoaG2lrb6OxoZG8k+edd94lk8lQVVWF57ncuHmDmZkZvvzlL7N9xw6SyRV+9rOfcezYMSzLIhQOMTM7Q2VlJS0tLdTX1+M4DlevXg2+HjKaQAghhBDiXqqlqUVTmHUPxTZSjuPg+z6lpaXFkFhaWkokHEEDC/PzjI2PmapnMhlMdIrguqbLgO9r4rEYLS0ttHe0U1FRgWXZpJJJRsdGGRm5TTqdgiBYmgCbJx4vob+/j9raWqamprh58ybJZMoE2KBKGwqFiEajdHV20dXVRTQaZWp6igsXLjA7M0tnVyetrW1kMhlu3rzJwvx8MEFM4XselVWV9PT0UFlZyc2bN7lz5w6e6xWX0bUtm47OTjo7O5ifn+fGjRvMzc0FfWpDlFeU09vbS3NzM+FwhJWVZSYmJhgZGaG2tpbm5mYcx2Hk1giLS4tsGNpAbW0tyVSSGzduMD09jVLKjOvVmoaGepqbmykvK2dpeclUhNMZCbBCCCGEEPexGmALV6xJTPl83oS2sOnTatlmqVYNOE6+GHLNAgFrhtNq8Pyg9VYwoz4Wi4EC1/VwXdMT1vSc9YN2WkGngOD6cCiM5/tmW1+jLNOntTCEABSWpYIFCkyfWc/18LVPyF6t1mpf43quCbAoMyEs6D8bDoeL9ynss9Bmy7ZNT9zCcyksqKCUAg2RaGR1WIPvk3fy+L7Gc12zclg4jPZ9HNclEokAphtBYQEGFXQcKCj0oC2EfwmuQgghhBD3VwywHxFMZEKZPqiFALeWFayCZSnT/kprM5ZWBz1UNaYFleM4xeCrAMu2iiHT90x4LMz6933frJIVTMAq7BtUcYEDHQRtzzOLAxR2XFhtq7BogMKsqEUQGAs833RbUJgJWlbQsxYK+zfHXeiMUOhXq7V5XBMyTb9bE4YtLKWwQ/ZdCzYUlpItrA6GMtVm0xM3eH2D5+wHXSBAEQqZVcCEEEIIIcRHfWyALYTET3QeuxAqWbNtsaRb+Oueh1lzn+JjBdff9Xhr7rb2prvuc78N1l53rwfd5n6389H9FALu6ufmjoq7V/W6/2t0j497TCGEEEKIz7iPLfMp1oQo/U9c1mayNdet3jdIqx9zn+JjFe53z3YFa3PeXfdZs23x8e9z/6IH3ebj3LOfe49pdRmFe/ZlWtt+7H5+6WMKIYQQQnzGfWyA/VXdr5j42/S7fvxPar0cpxBCCCHEw+Y3HmCFEEIIIYT4NEmAFUIIIYQQ64oEWCGEEEIIsa5IgBVCCCGEEOuKBFghhBBCCLGuSIAVQgghhBDrigRYIYQQQgixrkiAFUIIIYQQ64oEWCGEEEIIsa5IgBVCCCGEEOuKBFghhBBCCLGurJsAq9dchBBCCCHEZ9e6CLDF0Kruvl4IIYQQQnz2rIsAC6BVEGQL/wohhBBCiM+kdRNgi3ShEGsGFGg0Wvlo5aGVh6/c4OLhKQ9P+fhK4yvwFWgUGit46lLSFUIIIYRYb9ZBgFUfCZqrn2lQPuCj8U1wxcHDwVMO2vJRNnhKB1sofKWCp313gP3oowghhBBCiIeRamlqecjPyBfqrRpUcKi6cLVGAZa2sLRFSNtYvomiWmMqrza4ygsqsBp0YXuFVh7g3/VoQgghhBDi4fbQB9hCVVTjgypUUQu3akJ+iKgbI+7FKXVLKfUS2ITQ2ienc6zYK2RiGXIhh6ydR+Nj+xa2Vmh8M/zgnu4GUokVQgghhHh4rYMAWzg8H43GUwrXAqUVllbEvBhluUoqnWpqnRrq3FqiVhTbsshaaabsSWZDU8zbSyxFVvAtj5C2sLQJxb7SaMz4WDBFXgmwQgghhBAPr4c8wGrADwKlibK+Am1B3ElQ4pRTnamlPddJn9VPvVVPvVVHxIpgW4qcyjLlTzLhjHHVusrN6C2WIgvk7DSOlUNr89Q1oFXwKBJghRBCiE+dUqr4Poz6mEbvKrjhfreJz7SHO8AWx6gq0DZgoZWHUpqqbAM16Rb6nCF26z1s8bZRE6qmXJeZuymNb3usWMvMebOcLjnJYes9ruhLzEamyMRT4GksbaFVoc6rJMAKIYQQnyId5FLLsvB9HyfvkM/nsWybeDyO1ppcLovWmmg0im3Z+L4PSsn7syiyy8vK/+beKx8WWhFUXpUJmQpCvk1YR6hdaaTf2cT20G4221vo8ruoUOXE/RDFP36EGAlKKMeKWfgKsm6WNElyoSwKc11B4UdDfkCEEEKIT4d5a1coFBpNVWUVNbU1hMMhUskUvu/T1NRETXUNnueTzeVQCkK2vVqxFZ95D3mANT1bNcp0EAAifpSoG6M92c1ufYCdod20qTbK3RKUBk8XWmZpQBFCEdVhLDtGiZXA0x6LzLHIAlqBZ5kuBIrVFRIkwAohhBC/eab6qrCUwvM8IpEIPd09PLL3Edra2shmslRWVvLM556huqaa2dlZlhYXUUrh+T6WvQ66f4rfiof8O0GZCqxSZgqX0oT8MHGnhCarhV67j3bdSblTiq1Ba/Bw8de0xlIawhoqclV0ej302v00qCaiThTlKHxtJnEJIYQQ4tcTLC/00ffVwkTpYPgAgOd7WJZFLp+joqKCPbv38PnPf57du3dRUVGB53p4rouyLKLRKIlEAlW4s/jMe8gD7BrKdB6IeREqnFIawvVUh2qI+DE8D9ziaFm7OBQgaL6FB1guxJ0YlaqSylAlMR1HeRaeb+KuDh5DCCGEEL8ijTnNv+ZUv0bj+z6+Nt2EfN/H9VyUsshmspw6dYqf/vRVZudmOfDoAaqrq/nOd7/Dq6+9yszsDJFImNqaWjZsGMJS6ye2iE/XuvlO0MGiBVHfBNhqVUmZLiPsmp8TV5kxs8HSBlio4lpbGgihiDtRynU55aqcOHFChFCWGYNz398YhRBCCPHACu+qSil8X5PP53FdF9d1ix8XqqnRaJSZmWlGR0fJpDMMD19jcXEJAEtZ2LZNIpGgpqYmeM+WpgTiIQ+wwfQtVLGVlvmhcJTp32puK95g7lMcGG6GHxRu0oCnPbSlsUIWWBZWyEbfvaKsEEIIIX5FyrKw7RB2MOEql8/hex79/f186Usv8vWvf50vf/kPGBoaMv3ac1lWVpJUVlbR1NRMPB6ntaVlTfcsTWNjI52dnSRXksGjSIQVD/kkLtDBWBnzm5yNRcJNEM/H6aSbHt1Pta5EBy3iFMFQg/sEUg/Qls9MZIqrXOa6d42UnSITygIaCxN8V2OvEEIIIR6Er837ttYarTXl5eU89/xz7Nmzh3w+R6Ikwfbt2+lo7+D2nduUlZaxedMm+gcGQGuWlpcYGBggHA4TjUaZm5ujvq6ezVs2k81kuXbtOr7vF4tV4rPrIa/AmklYZjiA+UbNWw4roRTzLLBsL5INu/hAeM32hRBauFiAqxzSkSTL9iLLaom0lcJVbrCN2bf8KAghhBC/Bq1xXQ8n71BeXs4Tjz/BE088wdzcPO+/9z5Xrl6htKyMwcFB4rE4Qxs28Nhjj5FIlHD8+HE++OAwAIODg9i2jeu6xOJxotEoK8kV8vmc6QkrBdjPvIc8wJrgammFpc2hZu0MC9EFxhlnzBpjMTyPtl2iQCh4QmtDrB2EWyecZyE2z1Rogmk1yUpoEcfKYWkruMgiBkIIIcSvRYHrOkSiUTZs2MDTn3ua+fl5Dh58i/GJcUpLS7EsxfjEOItLSySTSW7fuc2li5cYvjbM1atXePPNNzl37jy3bo1gWRb19fWUxEtYWlzC94LwKm/Wn3kPdYCFYGYWFkorQJOzc6xEVhhX41z3rjGm7pCOpArrdRUWnEUHzbR8zASvlegyE9ExRrjBpD9GylrBUflieJWhsEIIIcSvR6GChQga2bt3L42NTRw9chTXcXn8scd59NFHSaXSvPXWQebmZjl65Ag//OEPOXf+HEoplpaW+clPfsJrr73K7OwMiUSC6qoqSkpKUJbCsi2UJe/W4qEfA6vwC+sLKDMtSyuFpzQRombRAtsnGgkRJoIOaZS2TOss5ZO38ixFUsxEF7mWuMRpjvGhe4Y7+hYpaxmlLCxlYclwcCGEEOLXpiyF9jUbhjbw2OOPY1mK6elptmzdwqZNm5idneX111/n8OHD+L6HZVuEw+HipC9QhEMhwuEwWmvC4TCJ0lIy2QzXrl0jlUxhWZaMgRUPd4D1g+VjzZKyJsB6ynQh0JZmmSRpnSKERSIUI2SHieoSLMsCW5GPuMyXzDESucW50EmO6fe55l9m2VpAhzzTngPLFHrvfXAhhBBCfHIKcrkc0WiUbdu2s3XrFiYnp7h65Sojt0Y4fuI477//PsPD19DaJxKOYNs2vja9Yc0uglCqwbIsXNdjamqS69evs7RkWmtJeBU87AFWr2knYMY6mJiplBkX62mPvJsl5Swxr2eZsaaYjc4wUTLG7dgtroevcjF0ng/9M1xwznLHv0XSXsEP+WCb1KqwgoAshBBiPdGmzxIoUMoUI+53G8H7hnkH0RJ+PkVaa2zLpq+vl40bNzI1NckrP3mFS5cvMTY2jud51NXWUltTy9LyUjAcwPSLXft1UUqZ4pLv43kenhe005TwKgKqpanloS0+akwFFkDpoO9boVrqKWxtE/bCxL0YpSQoV5VUUEXYCgOQI8+KWmKJJZJ6mYydwbNctGXGyfp6zW97Qggh1hWNadWklMJSFq7rYodsPM8rBinXc4NT0xCJRLAsG9/35LTbp8TXPr6veeLxx/mzr32NcDjED3/4Q86fP4/Wmt6eXsorKrh8+RJXrlwhFAoV71tY2EBhwitBIF57m3zdRMFDHmBNFVZp89naqOnrwumG1d+0w16YsBcJJnyBr3wcO49j51HKMpdgmlfhvkIIIdanQoG1MKnHdVx836esvIympibq6uqw7RBLS0uMjIyQSaeLAcsU+ORd4DdNo3Ech96eXl588UX27d/HzMwMN2/cZCW5gu9rxsZGOXr0GIsLC+ZrV6yUq+LXZU3xPNivvGeLuz3UQwi45xv2o9+8q9eoYKysb/v4IQ8v5OHZHr7tm75aqOIpCnXffQkhhFgvdPD/vrLM/+qFxvmRaIQtW7awdctW2lrb2LN7Nxs2bmBpaYnp6WnS6TSWtfp+IH6zCl+LZCrF4uIiyrKIRiOUJkrJ5rJ8eP48R48dY25ulkgkAmp1TOvaXyru/crc+7kQD3UF9pcxp47MR2ZoQbDysvLvqrAqbaGCHrKFCqwQQoj1rxBiQeF5Lo7jsHfvXp5//nnGx8f52c/e4IknHueZZ57hpz/9KYcOHWJ5eZlYLEY+76CDiUPiN0MDtmUVq7C+rykvK6O8vBxf+ywtLZHJZFBKmclbvi5ur6UPu3hA6y7AFgd268I3fBBgAa1WPw62Br32t2z58RBCiIeauue/8X/yelNN9VwX27b55r/6Jr29vRw8eJAf/ehHNDY00tXVxZ3RO7iOS0dnB9FolFOnTt1d0Fi7/8LV9z7exx3Dp8BMOtNoM1ljXRVftNamMq4UrmvGIPueb/q4WsHC7cHXrVA5Z00lVohP4qEfQnCvtQ2M7/02N0vOrv1T+GEoXIQQQvyuFCqmhXDm5B2yuRyu6+IGFVTHcbFDIdMOUZmzbfm8QyaTwXUc8o6D53t4noeyFLZl4Xou2UyWWDzGM888Q6IkwdlzZ7l48SK5fI6p6SmWl1d45JE9HDhwANdxOX3qNCiwlEUunyObyeL5HgCpVIpM8Hlhkpjv+6RTafJOHsd1zIpQCtNYXymUpfA8j3w+X9zGXMzEMmWZ5+y6rtkmn8fJO/hBgMs7eXK5nJl0hiZkB5ObtHkN7htig7e2YiW6eAkKPUHaVsosAKDR+IWweO++fpPUmrJREFQt28K2zOtgClEKdHA8QWcICbDiQay/CmwQYLUOWqSsqcCan927v/nvrsnKD4YQQvxOKdC+xvM9IpEIgwOD1NbV4vs+C/MLTE5NsjC/YMKW55PNZkkkEnR0dtDc1Ew0FmV+fp6RkRGmp6dxXZdEopSGhnp6e/t48UtfIhqNcuz4Mc6cPkPeyTMyMsLGjZv4wuc/T3NzMxcvXuTdd99lfmGe6elpIpEojY0NaA2zMzNUVVfT3d2FZVncuH6Dm7duAZqOjg46OztBw62RW9y5cwcn7xCNxcjlsigU7R3tdHR0EI+XsLi4wO3btxkbG0Mpi9JEgvqGeioqKsjn82hfk06ncVyHeCxOWVkZAJNTU8zOzOBrjRXMvtdr238p8DwPx3HxPNdcFVQzP0oBGsuysCyLkB3Ctu17N/r0mcMo/lusvBIEXmU2kndp8UmtvwpsoZXGvYKr1/743v2jbOKtEEKI353C/8vl5eU8+eRT9Pb1oX1NWXk5ff191NfXMzJym2w2g+M6tLe3s3ffXjZv2kwkEqG8rJyhDUP09/ejlGJmZgaA3p4eent7aG1rJRwKk82aCmosFmNlZYXBwSE2bdpEojTBSjJJLpvFdV1KEiU88sgeHn/8cXp6eqiqqmbD0BAbN21k69at1NfXE41GaKhvYM8jjzA0OMiWrVtoa2sjlUozOTkBaOLxOPv27WP3rt0kEgnC4TC9Pb1s2LCBhYUFlpaWsW2btrY2du7Yyb79+xkYGGBubo5cPseu3bvYu3cvAJOTE6wkV/A8s1KVstRdY0Q1mmg0SmlpgtJEKfGSOImSBPF4CSUlcUpKSigpKSFRkiBRmjAfJxJEozGUUni+9zuLitqUlFerw5bCWjPBWohP6vckwN7vunsVtvkk2wohhPg0aO0TDofp6uriX/yLf8HExDiHDh1ienqKzs5OWlpa+fD8eRYWFqiqrOLzX/g8u3ftZmZ2hqNHjjI6Okp9XT379u2jpaWVhfl5xsfHsUMhlILOzk5C4RDDw9c4e/Yc8/MLLC4u4vseLS0txOMl3Lp5k1OnTrG4uEgkGmXPnj3s3LmDuto6HMdhfn6eifEJGhobGBwYpKm5iZAdIpPNMDE5QX19Pdu2bcP3Pa5cvkIymaS3t5dvfvObVFZV8otf/ILTp0/T3NzMM597BtdxuTVyi1QqBUB9Qz379++jp6eb8x+eJ5vNsmXLVirKyzl69BgjI7eCXrZmNSoVnG4v8DyP7u5udu/azdatW+nu7qa3t4++vl76+vqDSx/9/f3095uPh4aGqK+vJ51JMz8/j209YBX2N/HWuWYfCjPswgwnWFNj+jQv4vfK+guwH/kuLHx+73fqvZe12wohhPhd8LWpHvZ09/DEE09w9uw5zp45w61bt8jl8oRCNiO3RlhaXuLAgQM89+xzzM7N8v3v/4ArV64wNz/H1atXaWpqYtu2bSQSCc5/+GFw/xy7du0iGo1y9MgR3jl0iIXFBbLZLOl0moGBASoqyjlz9gxvvvUWS8umP2xpaSldXV1kc1lef/11/vf//t+cOHGCkB2if6CfeDzO0aPH+J//8wecOnUKrTUbNmzAtm2Gh4eZm5tjYGCQffv2FYcnXLt2nXgszpatW4lFo1y8dInFxUVmZ2aZnpkmUZIwVdxkiqamJvK5PD//xc/5+c/fRWtzyj8UCt1VtCmcgXddl23bt/Hkk0+yZetWWlpa6ehop6e7h66uLjq7usy/nV10dXbS2dlJf/8AZWWljI6Ocvv2bcIhs+DP/ZiobCZK68IfXfzoV/+zJoQXPi4MJfitXII/wF3jdMX6tO4C7P3dG1Y/7iKEEOJ3y4SzsvIytm3bRldXF9FolJXkClNTk4yPT5DOpLGUxRe+8AU6Ojo4/+F5jh8/RigcIhQKkVxJUldXR39fP2Vl5YyM3GJk5BYVFRXs3buXWCzGlStXuXHjBpFIBIUikUiwfcd26uvquXPnDsPDVwmHw/ieT0d7Bxs3bCSVTnHo0CFTobRt6urr2DC0geRKkp///OeMj48TDkeoKK9g8+bNOI7Dhxc+ZGJyAs/zmJqc4syZMywuLtLR0c4jjzzC0NAQK8srnDhxnOXlZSzbJpvNsrCwQEdHB1u3baWmpoajR4/y/gcfYNsWtm2CqxVMdiu8bjoItrZtk0wluX79OidPnuDo0aOcPHmK06dPc+z4MY4fP86JE8c5efIEJ0+e4tixo5w4cYJz584xOjpGPp/HUqa95L10UCX31yzh6geT5j6ti+u6n9ql8Bi+b56T7/vo4HtQIuz6tu4mcQkhhFi/CgGpoqKCL7/4ZZ597lnC4TAXPrzAO+++y8mTJ1hcWKSyqpL/+B//Iz3dPbz845f5/vd/QCRiqobpVJoDjx7ga1/7GpWVlXz729/m1Z++Slt7G3/9139NRUUlL7/8I1579TUikQi+9qmuquZffuNf0t/Xz9uH3uYf//EfUcoik8nwuaef5qWXXiKVTvFf/9//yvDwML7vs2//Pv78639ONpfj29/+FqdPn8a2Q2zZspm//Mu/JJ1O8/d///ecPHmSaDRKJBxhaMMQA/0DlJWXUVlRyfYd2xkZuc1/+29/x61bt7CUFVShIzx64FH+4v/4C1KpFN/9znc5ePAglm2ZBv9BudVUD4MyTDCbXykVdGVwi+NjC5O5LGUVq42mA4AFaDzPIxwOEwlHzD4+JrwVwl1zczPt7e3Yto3juB+z9a/orsULfqN7/qhg967rErJDWLbFzMwsw1ev4nreb/Z5id+q35MKrBBCiPXADOfUZLNZxsfHyWSz1NbW0NPbQ3t7G6FQiImJSbTWHDhwgOrqaq5fv86VK1fQvsa2bXL5PNXV1WzZsoWK8gpOnT7NzZs3KC8vZ8/uPUSiES5fuszwteGgYb5PLB5n29atVFdXc+PmDS58eAEFeL5Hd083GzZuJJ93OHXqJPNz82itaWtrY+uWrbiex9mz55icnMCyLBobGtm5ayeO43D+/HkmJyYpryjnySefZN/efaTSKU6ePMns3BwbhobI5fMmmC8uYlkWnmd6o/b197Nx4wYqKipIJpOMT4wzOztLOGxWqCIIeMokPiyl8DwfrTUN9fV0dXfT0dFBc3MTjY2NtLW10draSnNzMy0tLbS1ttHU3ERzczNtbW1UV1fj+z6ZTOZjK7Bgxt12dnbR19dLfV091dVV1NXWUVNb+5u51NRSW1NDTW0N1TXVn+6levVSU1tLVVUVTj7P6Ogo/u9wMpv49UkFVgghxG+N1ppwOEyiNIHWpi/q0OAQjz32GJs3b2ZpeZnvfe/vOXHiBP/23/5b9u/fz9GjR/nud77L5OQk0ViM5MoKW7Zu4Zvf/CZ1tXX85//8n/ng8Ae0tLTw7//9X1NRUc7LL7/M66+/TjQSxfVcaqpr+Jff+Aa9vT0cPHiQH/7PH6LR+L7Ps888yx//yZ+QSib5u//2dwxfHcbXPvv27ePrX/9zcrks3/n2dzh1+jS2bbNlyxb+8i//Del0mu985ztcvHiJffv28Wf//J9za+QWP375x5w9d5bNmzbzH/6v/8DKygr/6T/939y+PQKAbYfo6enhj//4K2QyGTZu3ARo3nzzTV555RVyuTy2Za32mGV1UQMdVFMff+xxDjx6gLq6OvJ5p/DiBhVZ87wKlFKEQiHGxsZ5++23OX36NLFotHj7WoXKbU1NDVVVVViWZU67a3PrJ6Pus60J4IW8uBrMP25y9m+WLoy/1bC8sszU5BS+9j96mGLdkAqsEEKI3xpf+5SUlNDT3UNfXz8XL1zg0uVLTE1PUVVVRV9fL9PT05w+fZrq6moGB4dIJEq5M3qHGzdvmPGMns/OnTvZvHkLMzPTHHz7IPPzCyQSCQ7sP0A8HufSpUtcvTpMOBh2EI/H2b5tGw0NDdy5fYeLly5SWlqG67i0d7SzYcMG8vk8x08cZ25uDi/oWrB9+zY8z+PUqVOMj41h2RYNDfXs3LkT13E5c/oMy8vLPP/8c+zYsYNjx47z/vvv4+Qdtm/fziOPPEIyleL06VMszC/gOi5NTY089dRTJBIJfvzjH5PL5ent7aWurp7Z2VlGR0eDMbCrVVKNxte+6eGqoa6+jpqaGizLIpVKkcvlSKfS5HI5ctkcmUyGdCpNJpMhl8uRz+eZn5tnZOQWMzMzxYUSVsfYUpwvon2z7OvE+ASjo6NMTk4yMzPN1NQUk5OTTE1NrblMMz1tPp6cnGRycorJiQmmpqaYnp5mcnKS6elpJiYmGB0bZWxsjInxCSYmJpgYn2B8YpyJiQnGxycYHx9/oMtd+xkfN/sYG2dsfJzx8bHiNuMTE0xMjDM2Ns7E+DjLK8vYIVvmxqxzEmCFEEL81miticfidPd08+ijjzE1Ncni4iLZbJaamlpaWpq5evUqFy5cIJ1O09LSQntbG1prRkZGcF2PurpaXnjh81RWVvD+++9z/PhxYtEo9fX17Nu/j9JEqVmA4OZNLMtGa5+QHWLDhg20t3eQzWWZnZ2lva2ddCZDe3s7mzZtQqM5d+4c83PzWJZNb28vO3fuxLIsLly8wPj4OLFojK7OLnbu3IkGrly+zOLSIjt27KClpYVMJkM2m6G+vp7tO7bT09OL57ksLi6STCaJl8TZtcv0fH3ttdc5duwYS0vLdHV1sWHDRqKRKLdGbuE4Dp5nVgYzxU9TGS10J5icnOTs2bMcPXqUw4ePcPiDwxw9dpRjx45x7JiZyHX06FEOHznMieMnOHLkCGfPnWVubs5MEit+QVaLkIVCqNaaSCRCJBohHApTXVNNX18fGzZspK2tjY6OjuDSSVdXJ93d3XR1dQXXtdPe3kFXdxfdXd20B90RamprzCQ0ZREviROLxYjGokSjhUtkzccPdolEokTCYaKxKOFwmFAoZMb7RqJEIma/hX+j0SihUMgEda0lwq5jEmCFEEL81mitCYfCNDQ08Ohjj1JWVoZt2fT09LBhaIilpSXeeustUqkUy8vLpJIpKiorGegfoK6+joqKCg4ceJS6ulqOHDnCwbcO4vs+PT297N27l6HBIcrKy9Bo8vk8yWSSTCaD53k0tzTT3dVFe3s7zc3NxGIxtNZs2rSJ/v5+IuEIS0tLzM/PmzC8bx99vX1EI1GymSyLS4tUlFew/8B++vv7CUcirCRXmJ+fx/d9+nr76O7uYsOGDbS2tqKUQmufpqYmGhoa8HyPzs5O9u/fj1KKn7/7LktLy4RDITo7O+nt6aG2tpbS0lLGx8ZZXFoEwLJUcfyvpcySsFprPNcj7+TxXBfPNzPtC8MyXMctfq7R5HK5YPlbhbV2SfZgqdfCaXxzqt1Uf33t47ouFeUV7Nu3jz//+tfZsWMHe/bsYceOHezYsYOdO3eyc+cudu3axY4dO9i1axe7d+8uXvbs3sPefXtpaGhgbGyMqckpvKDHbbGrlv7VLlqbqrTv+/g6eK7aDLGwLItwKGSWB9Zm5bdCVbuwXWGVM7E+yRhYIYQQvzVaa0LhMHV1tfT19QWrQ2FaQyWT3Lh+g9t3bpvuAUEAa2psYmBwgJqaGlKpNLmcmQB2+/ZtFheXiMdjdHV10dLSQiwWg6DZ/9LSEtevXS8OCWhubmbD0Abq6uuYmpzi6vAwlZUVNDY0Eg3CbCaTZuTWCJFohJaWFqLRKFprspksk5OTZHM5uru6iMVjaF+TSqeZmjKn1bds2UJbaxuu53FteJg7o6N0dLTT19fH9PQ0d+7coaSkhObmZrLZLJcuXWJsbIya6hp6e3tpaGzAUhbJVJJrw9eK7blsyy5O6nKcPKFQqNjNQAeVWaDYdkv7pm3B2hBq26E1y9Kar4MKAizBxDoKfV812JYFysze11ozODDI177+NTYMbcD3fVLpFB+e/7A4Uc62bTzXKx5TLBalob6B3t5eunu6+fDDC3zve3/PubPnghBtmRW4HiRE3m9obcDXGs9zicfjxGNxHNchmUyB1pQkElRVVrK8skwymQyeuzkGsX5JgBVCCPFbo4NT1bZtm56mlk0oHMayFPlcnnQmg2UpLMtGKXDyDkopYvE4kXAYX2t83zNLxbpBVc2yCIVDxQlH6NVg5ns+juugfY1lW8VTyI7jkM1kCYVChMLBeFBtjq0Y+CxlQrRvJkcppfA9n0gkYip9vles5jmOQzweN4HX12SyGbLZHLZtkShJmH6nnhusrmX25XkeTt4xr0PIxrJsUx3V4LgOruNi2ZYJWtqMH0ZTnNy1NswVKpDFWfXB5Kji8a+ZQAVrgqBidZJYcJ3WfnGlLN83Abi0tJSdO3fyZ3/2Z9TW1qJ9zZEjR3j11Ve5OjxMPBbDDtlrqrwWJfE4Pb09/OlLf8rS8hI/+MEPOHfuHLZto5RVyOSfTBCu7xd4fV+jtU8sFmNwYJDdu3fjeR5Hjh5hcnKSL33xS8RL4rz99ttcuXK1+Pr/sk4M4uEnQwiEEEL81hSKaJ7nk8/nyOVyZLNZMpksTj4PQbjV2pwnVsqcPs/ncqQzabLZDPl8Hj8IpJZlTqk7jkM2m8PJ53Ech1w+j+s4xYBGcDo/n8+bx3IcFArXc8nn8+TzeRzH/Ov7Pp7nksvmyDt58o7ZZ6Epfi6XI5/LkwvuUzhlnc/nSafTpIMhC0opXMclk83guA6e55tjy+VwHReNeQ6+7+PkneJx5HN5fO0HodkKxmuagGoVl5ZdDZ8m1AddB5QyY1m1CXaFsbP3U8ywazoCmM9X91243XEcFhYWCNkhOjo6KCkpIRwJk0wmuXLlCotLi7iua14bJ082m2FpeYmFhQXKy8spLy9neHiYycnJoKJ8/2P6qLWV4bUVZzOGtVhttsz3gud5pqLd10tPdw+lpaWEwiHGxsYYHR0lHSzna8lCBuueBFghhBC/VSoIRYVTz7ZtF9tGWZa1phJoKorKMg38125fCCBBjsNSpopZuIRCZrtiCAsec+1+rGBVq3svlmWt7s+2CYVC5nplrreCY733WAq32cH9lVLFfZh9KmzbTMIqHpsyz8+2g2O3gm0t85qo4HXQhdUMCp8Hr6UOWoGhKVaJzfjSoCJbCKf3USzKrv5lXqfgT+FRCq25stksc/NzNDQ0UFtTS11tHaWlpWSzWSYmJrDtULCSmHnOAI7jEgqFqKysZGRkhNnZ2eJroT7BpXDoJrSaI7SCSrvnuXi+j2WZNmGu67Ewv8D8wjzNTc1s376ddCbNobcPcf7D86SSqeJ+LBk+sO5JgBVCCPFQMSFqtQL4y/zTWzzcCgF87ecEFUVVGNNaSPRBFTn4EIIq5NrwytrwSnDd/aypsK4ZTRB8HhxVUPkkCOdKWSwumI4RzS3N1NTWUFpaRllZKaN3RlleWcZ1zYpgZm8aFYyvzWVzTE1NFZcJLhzvP3UxezJBH9Sa6rJZElYFQyVs28b3PVzXI51K09raSm9fH8PD1zj41lskk8ngFyS7GJ5Xfw0Q65EEWCGEEOJ35N54qdaE18IYW2VSWhBeTYgrVkjXhtc1Y2EL8fS+AbZw/6CSa6KhcVdgLmwcDOWwLDMpbHJykrKyMpoam6iuriIei5MoTXDt2jVSyZQZGlEY/qAhmTKrjCWTydXd6k92MccTHFkwZMCyLcoryqmpqaWsrBwF5PN5FGaoQ31DPVu3baWjvZ3FpSWuXrli+gFrzJCKYPndT/ILknh4SYAVQgghHhZBRbFYWVWFIQCFqBl0DAhC5V2VV/NXcbt7A6wOAnIhvBb3tSYQF8LvvYI4jFJm/PLC/DwVlRW0tbURjUaprqomnUlz584dMpkM4WBi3trhBGY8b3Agn8Dqsa+uQhaLx3j88Sd4+qmneezxx9i2bStVVVWMj40TjoRpbm7mkT2PUFlRycLiAgMD/WitiUVjrCRXyOVy5pcDz79/uBfrhgRYIYQQ4mETpM3VYLl6U+G0eeFC0BO1UFGFjw4fMLsLPl8bIFUQLJX5xGwShOO1j6FW65WWZZFKm9W/yssr6Ohox7JsamtrmZ+fZ25ujlwuVxz7Wxij+6DWHq9lWzQ1NvHSn77EwMAAZ86c5saNG2YRio2bGLl9m7a2Vr785S9j2zbv/vzn3Lhxg40bN9Dd3c31a9eZGJ8wXR+UVXyOYv2SACuEEEI8hEzdtVBVLVidha+CUGlqk4XNVoccrI1nQT79CGXKr8HHq58X6r6FC2D6jKGwlOl8sLKyjNY+zc0tVFVVUlFRQSQSYXLSLC1LMLzhVwmvUJg8Ztqa1dc38PwLL7Bt2zbee+893nrrIKFQiJ07d1FdU8Px48eYnp4mk8kEywhfZXl5maWlJUZujXD58mWSKdMD1td+cZKdWL9kGp4QQgjxEFs72ahYFS3eErSWKty+GkM/ajXl/tLrP+beRRoI2TbpVJoPP/yQ9977BalUmnA4QiKRIBIJF0P0fR/vE/J902otHo+zefMm9u59hOvXr3PkyGHKSkvZvXs3FRXlnD9/jtHRUW7dvMU777zLxQsXcfIOmUyGw4cPc+jQISanJk1rs3/iuYn1QwKsEEIIsQ6sHTpAMLtf+6vDC0yV9eMjWqFSe6+Pu34tVQjPYCJsUJpdWlri5s1bZDIZZmdnOHXqFKOjY1jKIhwOfXyVM7jaZOfVCrJec5vvmb69dfX1bN26lYqKCm7dukl9fT2fe+YZBgcHuXXrFm+99RZTU9N4vkcul8XXGjtkFqdwXRfHdYoTynTQck2sf/JVFEIIIR5yxfDK3VVNveYU/2rA/Bi6+Ncnu/4+CgHaVH0VdXV1DA0NEg6HOHbsGO/94j2mJieLfVZXx+UahYCqgjZWKljytjD2trjwQvBEbNumvq6O+vp60uk0NTU1HDhwgOqqKt577z2+//3v8+GHH6IURCIR4vE4YCrS1dXVdHV1EY/Hse3CON9/OqyL9UECrBBCCPGwWtuJYM1kLYI2UIWepp9EcT+f8PqPEwqFyefyJBIJ9u7dy9NPf47R0TFee/U15ubniEQjWLZ1T6eDIJTqQsXYLFMbDocpKysjGokWOyKYO5l/wuEIpaWlRCNR5ubmOXHiBC+//GO+9e1v8dprr3F75DaqsCxs8PrkcnlKEgn27d3HV7/6EtXVNeY2f23cF+udBFghhBDiYRVM2HoYFCqX+Xwe13XZuWsnzzzzDJl0mpdf/hHjE+P4nh9UX80SwIUQm8/n8DwvWCUthOd5+J5PR0cHf/Inf8KOnTuwLBN6Pc8vLqVrWQrX89BAWVkp2tfcvn2byclJ4vE4mzZvZuvWrSjL9M11XbOEbyqV4vKVK5w4cYKVlRV87T8sL6P4DZEuBEIIIcRD6mGIrzqo0tq2hed7rKwss3PnTv7oj75CZWUlr776Kh988IFpUWWbZXRNldiEV6UgkUhQEi/B832cfB4UZnvLoiRewtzcHLOzs2itzXK8tg0ostksiZISurq66B/op76hnsqKCgb6B9i9Zzd1dfXcuXOH2dnZYDUun5J4CW1tbbS0tJDNZRkdHcP3veDZmFdTBc9JrF8SYIUQQghxF9PdIPik0FBAg+M4tLS08NJLL9Hd3cOxY0f5yU9+wtLyEpFIxFRRg7GshfsC7Nq1i7KyMpaWlkimkkTCEapramhtbSEUCjE9Pc3i4qK5i7KKd/c8DyefR2tNVVUVtbW11NfXU1VVRSqV4urVq9y4cd10GFAK13GJRCNs3ryZXbt2k8vluDY8bHrRrsmrKmhDJtYvGUIghBBCiLtoDdr38YMk6fs+jpOnvLyCF174PENDQ1y8eJHXXn2NiYkJbNtGoXAcF8dxg9P55uOqqip27txJXW3d6jgEBTU11Rw4cICu7i4s2youB6u1xnXd4hjZZDLJiRMn+F//63/x05/+lDNnznDu7Dl+8Yv3OHXyJMmVZHHBBN/3yeVyJBIJWltbsAqrmt27+INk13VPAqwQQggh7lIYequUGUPguh7hUJidO3fw1FNPMjMzw9tvH+Ta9euUlpUSi8WwbNNNwLIsQnaIUDhEWWkpO3bsoKGhgXQmTTqdJmSH8DyfTCZDd3c31dU1xdBqgqU2NWDtowDLtlleWeaDDz7ghz/8Id/61rf50cs/4urVq3i+TygcRmvwfTNZrDAEIZ1OM3xtuNj/tTBZrfBHrG8SYIUQQghxF0uZEGjbNp7vYVsWPb09fPGLX6KstIwbN27iOA4D/f0MDAzQ3dVNZ0cnvb299PX20tPbw9YtW3nh8y/wpS99CaUslpeWcRynWIQttOKamJhgeXmFkB0qdNK6q1pqxt/aRCNRotEYkUiYWCxGLBY1vWYLnQ4wVeO6WtN2K5/PMz09jVVooVV4YPF7QbU0tciXVAghhBAQ5Dzf94MlY30cx6Gjo4M//dM/Zc+ePbiuy8L8AslUCq39YrWVYPEB13NRSlFSUkJFeQXRWJSzZ8/yD//wDwxfHcYO2YTDYXbv3s1LX32JV37yCu+//76pzoZCWMrC831Ys2xu8dh0UJlVFrZtoTDL2mqt8X2fbDbDI4/s5YUXXiCTyfD//O3f4npecVvx+0MqsEIIIYQoUoBlrYbXtrY2nnvuOfbv2088FqesrIyW1lYG+vsZGhxiYGCA/v5+erp76O7uZnBwkMGBQdpa26isqiIajbKyskI6lcb1PHzfx7Zturq6yOayTE/PkE5nsCyrOD51bfXVCi7mczNEwbJMGNXBogUEwx4cx6W+vo5YLMadO7dJpVPFtl7i94tUYIUQQghxN2WWYVXKYsvmzTz51JM0NTUFfVaD8aZB0C2MLfW1j/ZNGyyUqeKavq4ehw8f5vAHh5mdncWyLerr6/nX//rf4Dh5/vEf/5GbN24SjkSK+zOLDqzNnSa86mCc69rZYCroVpDOpLEtm7/8q7+ks7OTH/3oZY4cOUxJScJsL2nn94oEWCGEEELcRWNOydu2TVNTUxBe3WJQNQHWnOJXKlje9mOKnL6vmZycYG5unlQqiVIWQ0ND/J//7t9x5MgR3njzDWZnZ4lEIsGQgbvHqxZ3XcithU20udW2bErLSqmqqiKRSPDil14klU7x3e9+l5npGcKRsITX30MSYIUQQghxl8KkKF9rPNfFdV0zzlT7QHCKv5AkPya4Fmitse0QiUQJ8Xic8vIKBgcHePHFF/ne977H6VOnyWQzhMORezPq3fu5N8MqU3kNh8P09vTyzDPPEI6EsZTFyVOnOHjwLdPeS1n33Z9Y3yTACiGEEKKoEBB9rbFtM1XGdb3ialaFNlVKWRBMoLqvYPED13XwPJ+mpib27dvL0NAGXMchn8/zvX/4HvNz8yjLwnrQhQWCAGvbNh3tHbz44ouEwmGOHj3CyZOnSCWTRGNRfM+EbvH7RQKsEEIIISAIr4VAauZTmVBZCLXFIQNBOC0smfWxITaQzWapqa3hqSefYsvWLdy5c4f33nuPO3fumP6vwa4eMMIWq8K2bVNSkkBr01/Wdd0gZAeVYhUc4y8/TLGOSIAVQgghRFEhFNw3TN7vyk+QIkzIDFGaSBCLxcg7eVLJlGm5hSouXXu/3f8yQXwOPjMDDIr7CcYbFAL3JzlOsX5IgBVCCCHEJ/ZLA+7HCSqgvufja9+0x7KCCmlhR79mGtFBnfju3ZnFEsTvH+kDK4QQQohPTD1oeCWohGJW1AqHwoTskOntGtz264ZXgui69rjMcT7wkYp1QgKsEEIIIYRYVyTACiGEEEKIdUUCrBBCCCGEWFckwAohhBBCiHVFAqwQQgghhFhXJMAKIYQQQoh15f8HWC7jSsNgew0AAAAASUVORK5CYII=)"
      ],
      "metadata": {
        "id": "h-aKgH3qeaAZ"
      }
    },
    {
      "cell_type": "code",
      "source": [
        "def softmax(x):\n",
        "  return (np.exp(x).T / np.sum(np.exp(x), axis=-1)).T"
      ],
      "metadata": {
        "id": "TmjYvM_ZePdD"
      },
      "execution_count": 13,
      "outputs": []
    },
    {
      "cell_type": "code",
      "source": [
        "attention = softmax(scaled + mask)\n"
      ],
      "metadata": {
        "id": "2lcW9EPbe2Sb"
      },
      "execution_count": 14,
      "outputs": []
    },
    {
      "cell_type": "code",
      "source": [
        "attention"
      ],
      "metadata": {
        "colab": {
          "base_uri": "https://localhost:8080/"
        },
        "id": "D8IyT-X9fGeK",
        "outputId": "f30ae488-dde0-4ec4-eb04-c017678c1d92"
      },
      "execution_count": 15,
      "outputs": [
        {
          "output_type": "execute_result",
          "data": {
            "text/plain": [
              "array([[1.        , 0.        , 0.        , 0.        ],\n",
              "       [0.67895391, 0.32104609, 0.        , 0.        ],\n",
              "       [0.26256705, 0.25573345, 0.4816995 , 0.        ],\n",
              "       [0.4144068 , 0.24455385, 0.16045927, 0.18058007]])"
            ]
          },
          "metadata": {},
          "execution_count": 15
        }
      ]
    },
    {
      "cell_type": "code",
      "source": [
        "new_v = np.matmul(attention, v)\n",
        "new_v"
      ],
      "metadata": {
        "colab": {
          "base_uri": "https://localhost:8080/"
        },
        "id": "N3XCRK5MfHsM",
        "outputId": "080e427e-629b-4bd0-a78f-083337ee2816"
      },
      "execution_count": 16,
      "outputs": [
        {
          "output_type": "execute_result",
          "data": {
            "text/plain": [
              "array([[ 1.08490757, -0.43367479, -1.07236331, -1.82204064,  1.60845676,\n",
              "         0.64308658,  0.42560113,  0.34021025],\n",
              "       [ 0.74835562, -0.21709508, -0.72217005, -0.90692288,  1.0340418 ,\n",
              "         0.57445753,  0.48866498,  0.63860727],\n",
              "       [-0.00888438,  0.72577197, -0.40094435,  0.09495987,  0.72802532,\n",
              "         0.39982542, -0.38257716,  1.46929024],\n",
              "       [ 0.03690395,  0.26997188, -0.43686894, -0.24641972,  0.87278903,\n",
              "         0.76793685,  0.00683887,  0.72178578]])"
            ]
          },
          "metadata": {},
          "execution_count": 16
        }
      ]
    },
    {
      "cell_type": "code",
      "source": [
        "v"
      ],
      "metadata": {
        "colab": {
          "base_uri": "https://localhost:8080/"
        },
        "id": "lvGgZVfffgEm",
        "outputId": "eefe06cd-1eec-4509-cb46-14c339b2f3f5"
      },
      "execution_count": 17,
      "outputs": [
        {
          "output_type": "execute_result",
          "data": {
            "text/plain": [
              "array([[ 1.08490757, -0.43367479, -1.07236331, -1.82204064,  1.60845676,\n",
              "         0.64308658,  0.42560113,  0.34021025],\n",
              "       [ 0.03660966,  0.24093147,  0.0184248 ,  1.0283842 , -0.18074102,\n",
              "         0.42931961,  0.62203353,  1.2696625 ],\n",
              "       [-0.6292464 ,  1.61516974, -0.25760648,  0.64433422,  0.73057808,\n",
              "         0.25156906, -1.35644896,  2.19071656],\n",
              "       [-1.77579804,  0.72876252,  0.24562625,  0.85148709,  0.7376589 ,\n",
              "         1.97186232, -0.57591636, -0.44978001]])"
            ]
          },
          "metadata": {},
          "execution_count": 17
        }
      ]
    },
    {
      "cell_type": "code",
      "source": [
        "def softmax(x):\n",
        "  return (np.exp(x).T / np.sum(np.exp(x), axis=-1)).T\n",
        "\n",
        "def scaled_dot_product_attention(q, k, v, mask=None):\n",
        "  d_k = q.shape[-1]\n",
        "  scaled = np.matmul(q, k.T) / math.sqrt(d_k)\n",
        "  if mask is not None:\n",
        "    scaled = scaled + mask\n",
        "  attention = softmax(scaled)\n",
        "  out = np.matmul(attention, v)\n",
        "  return out, attention"
      ],
      "metadata": {
        "id": "pJ0fw0S1fkjt"
      },
      "execution_count": 19,
      "outputs": []
    },
    {
      "cell_type": "code",
      "source": [
        "values, attention = scaled_dot_product_attention(q, k, v, mask=mask)\n",
        "print(\"Q\\n\", q)\n",
        "print(\"K\\n\", k)\n",
        "print(\"V\\n\", v)\n",
        "print(\"New V\\n\", values)\n",
        "print(\"Attention\\n\", attention)"
      ],
      "metadata": {
        "colab": {
          "base_uri": "https://localhost:8080/"
        },
        "id": "kLztfgBEgo1b",
        "outputId": "417aa73f-ad5b-49e1-f9d3-6eef86dae2c2"
      },
      "execution_count": 20,
      "outputs": [
        {
          "output_type": "stream",
          "name": "stdout",
          "text": [
            "Q\n",
            " [[-1.656742    0.7819573   0.52559618  0.93939726 -0.5625273   0.84864929\n",
            "   1.19123949 -1.31573045]\n",
            " [ 1.1602606   0.71961949  1.73283649  0.70025501 -1.38885747 -0.6655259\n",
            "   1.65544819 -0.83732698]\n",
            " [-0.13133191  0.56976407  0.02463137 -0.17135961  0.79378865 -0.037593\n",
            "  -0.11494286  0.41844077]\n",
            " [-0.64231195  0.82531037  0.5615818   1.73076134 -0.3999727  -0.67738992\n",
            "   0.88621169  0.03202868]]\n",
            "K\n",
            " [[-1.07965948 -0.93033227  0.77991769  0.54198817  0.67621516  0.78237803\n",
            "   0.54289299  0.97488506]\n",
            " [-1.8024289   0.65364501 -1.13887745 -1.1311632  -0.77045519 -0.68075642\n",
            "  -0.39891236  0.19494474]\n",
            " [ 0.66989718  1.3563747   0.74030572 -1.61829959  0.21973164 -0.04224101\n",
            "   0.01392261  2.27628322]\n",
            " [-0.82786793 -0.19886898  0.77990028 -0.79178142  1.52317783 -0.52038813\n",
            "  -0.51767374 -1.73647756]]\n",
            "V\n",
            " [[ 1.08490757 -0.43367479 -1.07236331 -1.82204064  1.60845676  0.64308658\n",
            "   0.42560113  0.34021025]\n",
            " [ 0.03660966  0.24093147  0.0184248   1.0283842  -0.18074102  0.42931961\n",
            "   0.62203353  1.2696625 ]\n",
            " [-0.6292464   1.61516974 -0.25760648  0.64433422  0.73057808  0.25156906\n",
            "  -1.35644896  2.19071656]\n",
            " [-1.77579804  0.72876252  0.24562625  0.85148709  0.7376589   1.97186232\n",
            "  -0.57591636 -0.44978001]]\n",
            "New V\n",
            " [[ 1.08490757 -0.43367479 -1.07236331 -1.82204064  1.60845676  0.64308658\n",
            "   0.42560113  0.34021025]\n",
            " [ 0.74835562 -0.21709508 -0.72217005 -0.90692288  1.0340418   0.57445753\n",
            "   0.48866498  0.63860727]\n",
            " [-0.00888438  0.72577197 -0.40094435  0.09495987  0.72802532  0.39982542\n",
            "  -0.38257716  1.46929024]\n",
            " [ 0.03690395  0.26997188 -0.43686894 -0.24641972  0.87278903  0.76793685\n",
            "   0.00683887  0.72178578]]\n",
            "Attention\n",
            " [[1.         0.         0.         0.        ]\n",
            " [0.67895391 0.32104609 0.         0.        ]\n",
            " [0.26256705 0.25573345 0.4816995  0.        ]\n",
            " [0.4144068  0.24455385 0.16045927 0.18058007]]\n"
          ]
        }
      ]
    },
    {
      "cell_type": "code",
      "source": [],
      "metadata": {
        "id": "un9TfIy2hVBi"
      },
      "execution_count": null,
      "outputs": []
    }
  ]
}