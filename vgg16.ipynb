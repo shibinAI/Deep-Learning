{
  "nbformat": 4,
  "nbformat_minor": 0,
  "metadata": {
    "colab": {
      "provenance": [],
      "authorship_tag": "ABX9TyPWJRagdfqV5F3qivjJ+wZI"
    },
    "kernelspec": {
      "name": "python3",
      "display_name": "Python 3"
    },
    "language_info": {
      "name": "python"
    }
  },
  "cells": [
    {
      "cell_type": "code",
      "execution_count": 11,
      "metadata": {
        "id": "J7O5R9DaNfg3"
      },
      "outputs": [],
      "source": [
        "import keras\n",
        "from keras.applications.vgg16 import VGG16, preprocess_input, decode_predictions\n",
        "\n",
        "import numpy as np\n"
      ]
    },
    {
      "cell_type": "code",
      "source": [
        "model = VGG16(weights='imagenet', include_top=True)"
      ],
      "metadata": {
        "id": "5CQRoenjN4lU"
      },
      "execution_count": 12,
      "outputs": []
    },
    {
      "cell_type": "code",
      "source": [
        "img_path = '/content/image.jpeg'\n",
        "img = keras.utils.load_img(img_path, target_size=(224, 224))\n",
        "x = keras.utils.img_to_array(img)\n",
        "x = np.expand_dims(x, axis=0)\n",
        "x = preprocess_input(x)\n",
        "predictions = model.predict(x)\n"
      ],
      "metadata": {
        "colab": {
          "base_uri": "https://localhost:8080/"
        },
        "id": "r0e6rvBsOCCQ",
        "outputId": "fa2eb2f5-5531-424e-c13e-2b5296a32af1"
      },
      "execution_count": 13,
      "outputs": [
        {
          "output_type": "stream",
          "name": "stdout",
          "text": [
            "\u001b[1m1/1\u001b[0m \u001b[32m━━━━━━━━━━━━━━━━━━━━\u001b[0m\u001b[37m\u001b[0m \u001b[1m1s\u001b[0m 688ms/step\n"
          ]
        }
      ]
    },
    {
      "cell_type": "code",
      "source": [
        "# Predict the class\n",
        "predictions = model.predict(x)\n",
        "\n",
        "# Decode and print the top-5 predictions\n",
        "decoded_predictions = decode_predictions(predictions, top=5)\n",
        "for i, (imagenet_id, label, score) in enumerate(decoded_predictions[0]):\n",
        "    print(f\"{i+1}: {label} ({score:.2f})\")"
      ],
      "metadata": {
        "colab": {
          "base_uri": "https://localhost:8080/"
        },
        "id": "mmT0KXJCPDcg",
        "outputId": "5c68c0eb-5826-493c-f9f8-ce00071d516a"
      },
      "execution_count": 14,
      "outputs": [
        {
          "output_type": "stream",
          "name": "stdout",
          "text": [
            "\u001b[1m1/1\u001b[0m \u001b[32m━━━━━━━━━━━━━━━━━━━━\u001b[0m\u001b[37m\u001b[0m \u001b[1m1s\u001b[0m 532ms/step\n",
            "Downloading data from https://storage.googleapis.com/download.tensorflow.org/data/imagenet_class_index.json\n",
            "\u001b[1m35363/35363\u001b[0m \u001b[32m━━━━━━━━━━━━━━━━━━━━\u001b[0m\u001b[37m\u001b[0m \u001b[1m0s\u001b[0m 0us/step\n",
            "1: golden_retriever (0.63)\n",
            "2: standard_poodle (0.22)\n",
            "3: kuvasz (0.07)\n",
            "4: Labrador_retriever (0.02)\n",
            "5: Bedlington_terrier (0.01)\n"
          ]
        }
      ]
    }
  ]
}