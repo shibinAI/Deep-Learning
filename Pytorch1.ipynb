{
 "cells": [
  {
   "cell_type": "code",
   "execution_count": 4,
   "id": "37bf9412-ef39-4dfc-ad10-0564b0d19bb3",
   "metadata": {},
   "outputs": [],
   "source": [
    "import torch\n",
    "\n"
   ]
  },
  {
   "cell_type": "code",
   "execution_count": 5,
   "id": "7e8236e1-dbb3-4e81-9ead-1318aa09ad21",
   "metadata": {},
   "outputs": [
    {
     "data": {
      "text/plain": [
       "'2.5.1+cpu'"
      ]
     },
     "execution_count": 5,
     "metadata": {},
     "output_type": "execute_result"
    }
   ],
   "source": [
    "torch.__version__"
   ]
  },
  {
   "cell_type": "code",
   "execution_count": 6,
   "id": "d9d14c6e-67e4-4524-b3b2-bd93cc05b314",
   "metadata": {},
   "outputs": [],
   "source": [
    "import numpy as np"
   ]
  },
  {
   "cell_type": "code",
   "execution_count": 10,
   "id": "0f62c206-f619-420c-a963-840844f0aa71",
   "metadata": {},
   "outputs": [
    {
     "name": "stdout",
     "output_type": "stream",
     "text": [
      "[3, 4, 5, 6]\n",
      "[3 4 5 6]\n"
     ]
    }
   ],
   "source": [
    "lst = [3,4,5,6]\n",
    "print(lst)\n",
    "arr = np.array(lst)\n",
    "print(arr)"
   ]
  },
  {
   "cell_type": "code",
   "execution_count": 8,
   "id": "300a2814-c443-468d-90d5-a22320b40976",
   "metadata": {},
   "outputs": [
    {
     "data": {
      "text/plain": [
       "dtype('int64')"
      ]
     },
     "execution_count": 8,
     "metadata": {},
     "output_type": "execute_result"
    }
   ],
   "source": [
    "arr.dtype"
   ]
  },
  {
   "cell_type": "markdown",
   "id": "7cbb9734-d6eb-4797-9112-fd3bfa5a0800",
   "metadata": {},
   "source": [
    "## Convert Numpy to Pytorch Tensors"
   ]
  },
  {
   "cell_type": "code",
   "execution_count": 16,
   "id": "415f0a16-1263-4b5a-8a90-eb78bfb917b6",
   "metadata": {},
   "outputs": [
    {
     "name": "stdout",
     "output_type": "stream",
     "text": [
      "tensor([3, 4, 5, 6])\n",
      "torch.int64\n"
     ]
    }
   ],
   "source": [
    "tensors = torch.from_numpy(arr)\n",
    "print(tensors)\n",
    "print(tensors.dtype)"
   ]
  },
  {
   "cell_type": "code",
   "execution_count": 19,
   "id": "0b2aaeda-671d-464b-948c-d0ae20602161",
   "metadata": {},
   "outputs": [
    {
     "name": "stdout",
     "output_type": "stream",
     "text": [
      "tensor([3, 4])\n",
      "tensor(3)\n",
      "tensor([3, 4, 5, 6])\n"
     ]
    }
   ],
   "source": [
    "### Indexing similar to numpy\n",
    "print(tensors[:2])\n",
    "print(tensors[0])\n",
    "print(tensors[0:4])\n"
   ]
  },
  {
   "cell_type": "code",
   "execution_count": 20,
   "id": "3133bd34-6106-4f62-82df-90e96ffdb070",
   "metadata": {},
   "outputs": [
    {
     "name": "stdout",
     "output_type": "stream",
     "text": [
      "[  3   4   5 100] tensor([  3,   4,   5, 100])\n"
     ]
    }
   ],
   "source": [
    "tensors[3] = 100\n",
    "print(arr,tensors)"
   ]
  },
  {
   "cell_type": "code",
   "execution_count": 21,
   "id": "59968af2-2741-4382-bed3-9915c5e7b5f7",
   "metadata": {},
   "outputs": [
    {
     "data": {
      "text/plain": [
       "tensor([  3,   4,   5, 100])"
      ]
     },
     "execution_count": 21,
     "metadata": {},
     "output_type": "execute_result"
    }
   ],
   "source": [
    "### To prevent array and tensor from saving in the same memory location\n",
    "tensors_new = torch.tensor(arr)\n",
    "tensors_new"
   ]
  },
  {
   "cell_type": "code",
   "execution_count": 22,
   "id": "b07fb0c1-f646-4f14-b87a-6d807cb1f519",
   "metadata": {},
   "outputs": [
    {
     "name": "stdout",
     "output_type": "stream",
     "text": [
      "[  3   4   5 100]\n",
      "tensor([  3,   4,   5, 100])\n",
      "tensor([  3,   4,   5, 200])\n"
     ]
    }
   ],
   "source": [
    "tensors_new[3] = 200\n",
    "print(arr)\n",
    "print(tensors)\n",
    "print(tensors_new)"
   ]
  },
  {
   "cell_type": "code",
   "execution_count": 25,
   "id": "320f2219-93c2-44e3-bae7-36a338baf225",
   "metadata": {},
   "outputs": [
    {
     "data": {
      "text/plain": [
       "tensor([[0, 0, 0],\n",
       "        [0, 0, 0]], dtype=torch.int32)"
      ]
     },
     "execution_count": 25,
     "metadata": {},
     "output_type": "execute_result"
    }
   ],
   "source": [
    "torch.zeros(2,3,dtype=torch.int32)"
   ]
  },
  {
   "cell_type": "code",
   "execution_count": 26,
   "id": "481ad5e4-4a15-4234-bfa9-fad41a19ca25",
   "metadata": {},
   "outputs": [
    {
     "data": {
      "text/plain": [
       "tensor([[1, 1, 1],\n",
       "        [1, 1, 1],\n",
       "        [1, 1, 1]], dtype=torch.int32)"
      ]
     },
     "execution_count": 26,
     "metadata": {},
     "output_type": "execute_result"
    }
   ],
   "source": [
    "torch.ones(3,3,dtype=torch.int32)"
   ]
  },
  {
   "cell_type": "markdown",
   "id": "896fe40e-6859-46c9-82f0-5ad86965f549",
   "metadata": {},
   "source": [
    "## Arithmetic Operations"
   ]
  },
  {
   "cell_type": "code",
   "execution_count": 27,
   "id": "aae380a3-a9d0-4347-8a4d-c7391b90d841",
   "metadata": {},
   "outputs": [
    {
     "data": {
      "text/plain": [
       "array([[ 0,  1,  2],\n",
       "       [ 3,  4,  5],\n",
       "       [ 6,  7,  8],\n",
       "       [ 9, 10, 11],\n",
       "       [12, 13, 14]])"
      ]
     },
     "execution_count": 27,
     "metadata": {},
     "output_type": "execute_result"
    }
   ],
   "source": [
    "arr0 = np.arange(0,15).reshape(5,3)\n",
    "arr0"
   ]
  },
  {
   "cell_type": "code",
   "execution_count": 28,
   "id": "6caad5b1-72a6-4cee-ab9f-49bdd3af7a62",
   "metadata": {},
   "outputs": [
    {
     "data": {
      "text/plain": [
       "tensor([[ 0,  1,  2],\n",
       "        [ 3,  4,  5],\n",
       "        [ 6,  7,  8],\n",
       "        [ 9, 10, 11],\n",
       "        [12, 13, 14]])"
      ]
     },
     "execution_count": 28,
     "metadata": {},
     "output_type": "execute_result"
    }
   ],
   "source": [
    "tensors0 = torch.tensor(arr0)\n",
    "tensors0"
   ]
  },
  {
   "cell_type": "code",
   "execution_count": 30,
   "id": "707d9b61-5e16-4bc4-8e87-ca31a6b2ee9c",
   "metadata": {},
   "outputs": [
    {
     "data": {
      "text/plain": [
       "tensor([[100, 101],\n",
       "        [102, 103],\n",
       "        [104, 105],\n",
       "        [106, 107],\n",
       "        [108, 109]])"
      ]
     },
     "execution_count": 30,
     "metadata": {},
     "output_type": "execute_result"
    }
   ],
   "source": [
    "tensors1 = torch.tensor(np.arange(100,110).reshape(5,2))\n",
    "tensors1"
   ]
  },
  {
   "cell_type": "code",
   "execution_count": 31,
   "id": "32e13a48-6777-40da-9d9e-8e3ded266a63",
   "metadata": {},
   "outputs": [],
   "source": [
    "a = torch.tensor([3,4,5],dtype=torch.float)\n",
    "b = torch.tensor([4,5,6],dtype=torch.float)"
   ]
  },
  {
   "cell_type": "code",
   "execution_count": 32,
   "id": "bc3b3dd0-9e10-48ba-aaa4-fa9d59a81b9b",
   "metadata": {},
   "outputs": [
    {
     "data": {
      "text/plain": [
       "tensor([ 7.,  9., 11.])"
      ]
     },
     "execution_count": 32,
     "metadata": {},
     "output_type": "execute_result"
    }
   ],
   "source": [
    "torch.add(a,b)"
   ]
  },
  {
   "cell_type": "code",
   "execution_count": 35,
   "id": "fb447d3c-22a0-4903-9d22-ceccb3251fec",
   "metadata": {},
   "outputs": [
    {
     "data": {
      "text/plain": [
       "tensor([0., 0., 0.])"
      ]
     },
     "execution_count": 35,
     "metadata": {},
     "output_type": "execute_result"
    }
   ],
   "source": [
    "c = torch.zeros(3)\n",
    "c"
   ]
  },
  {
   "cell_type": "code",
   "execution_count": 36,
   "id": "7de9adbc-032b-4c32-8588-44caabcac6cf",
   "metadata": {},
   "outputs": [
    {
     "data": {
      "text/plain": [
       "tensor([ 7.,  9., 11.])"
      ]
     },
     "execution_count": 36,
     "metadata": {},
     "output_type": "execute_result"
    }
   ],
   "source": [
    "torch.add(a,b,out=c)"
   ]
  },
  {
   "cell_type": "code",
   "execution_count": 37,
   "id": "671b565b-92f8-4e68-b618-8f7dda51652f",
   "metadata": {},
   "outputs": [
    {
     "data": {
      "text/plain": [
       "tensor(27.)"
      ]
     },
     "execution_count": 37,
     "metadata": {},
     "output_type": "execute_result"
    }
   ],
   "source": [
    "torch.add(a,b).sum()"
   ]
  },
  {
   "cell_type": "markdown",
   "id": "0730f4a4-73fd-4fa4-a589-9beff2e689b2",
   "metadata": {},
   "source": [
    "## Multiplication and Dot Product"
   ]
  },
  {
   "cell_type": "code",
   "execution_count": 38,
   "id": "1c79f45f-2207-4652-a8f9-a4991a8f1703",
   "metadata": {},
   "outputs": [],
   "source": [
    "x = torch.tensor([3,4,5],dtype=torch.float)\n",
    "y = torch.tensor([4,5,6],dtype=torch.float)"
   ]
  },
  {
   "cell_type": "code",
   "execution_count": 39,
   "id": "4581a003-1729-4ce4-bc60-31622216f6bf",
   "metadata": {},
   "outputs": [
    {
     "data": {
      "text/plain": [
       "tensor([12., 20., 30.])"
      ]
     },
     "execution_count": 39,
     "metadata": {},
     "output_type": "execute_result"
    }
   ],
   "source": [
    "x.mul(y)"
   ]
  },
  {
   "cell_type": "code",
   "execution_count": 40,
   "id": "41f68e2b-8349-43e9-ab21-f0afb5c0bd60",
   "metadata": {},
   "outputs": [
    {
     "data": {
      "text/plain": [
       "tensor(62.)"
      ]
     },
     "execution_count": 40,
     "metadata": {},
     "output_type": "execute_result"
    }
   ],
   "source": [
    "x.dot(y)"
   ]
  },
  {
   "cell_type": "code",
   "execution_count": 42,
   "id": "3fe9ebce-0534-4597-8301-15a2b6e0bf92",
   "metadata": {},
   "outputs": [],
   "source": [
    "### Matrix Multiplication\n",
    "x = torch.tensor([[1,4,2],[1,5,5]],dtype=torch.float)\n",
    "y = torch.tensor([[5,7],[8,6],[9,11]],dtype=torch.float)"
   ]
  },
  {
   "cell_type": "code",
   "execution_count": 43,
   "id": "aa1a99cc-3b80-44a8-8a33-e42c72435268",
   "metadata": {},
   "outputs": [
    {
     "data": {
      "text/plain": [
       "tensor([[55., 53.],\n",
       "        [90., 92.]])"
      ]
     },
     "execution_count": 43,
     "metadata": {},
     "output_type": "execute_result"
    }
   ],
   "source": [
    "torch.matmul(x,y)"
   ]
  },
  {
   "cell_type": "code",
   "execution_count": 44,
   "id": "2a011bda-023d-4858-ac1c-b58242af4c01",
   "metadata": {},
   "outputs": [
    {
     "data": {
      "text/plain": [
       "tensor([[55., 53.],\n",
       "        [90., 92.]])"
      ]
     },
     "execution_count": 44,
     "metadata": {},
     "output_type": "execute_result"
    }
   ],
   "source": [
    "torch.mm(x,y)"
   ]
  },
  {
   "cell_type": "code",
   "execution_count": 45,
   "id": "5a9f4ae4-aef9-492b-9fda-d7db0f5b85bc",
   "metadata": {},
   "outputs": [
    {
     "data": {
      "text/plain": [
       "tensor([[55., 53.],\n",
       "        [90., 92.]])"
      ]
     },
     "execution_count": 45,
     "metadata": {},
     "output_type": "execute_result"
    }
   ],
   "source": [
    "x@y"
   ]
  },
  {
   "cell_type": "code",
   "execution_count": null,
   "id": "820f6975-ba4e-4d24-b384-589e0cb5bd91",
   "metadata": {},
   "outputs": [],
   "source": []
  }
 ],
 "metadata": {
  "kernelspec": {
   "display_name": "Python 3 (ipykernel)",
   "language": "python",
   "name": "python3"
  },
  "language_info": {
   "codemirror_mode": {
    "name": "ipython",
    "version": 3
   },
   "file_extension": ".py",
   "mimetype": "text/x-python",
   "name": "python",
   "nbconvert_exporter": "python",
   "pygments_lexer": "ipython3",
   "version": "3.11.7"
  }
 },
 "nbformat": 4,
 "nbformat_minor": 5
}
